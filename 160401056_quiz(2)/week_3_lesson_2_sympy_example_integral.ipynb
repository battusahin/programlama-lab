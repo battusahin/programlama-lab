{
 "cells": [
  {
   "cell_type": "code",
   "execution_count": 2,
   "metadata": {},
   "outputs": [],
   "source": [
    "import sympy as sym\n",
    "from sympy import Symbol,exp,sqrt,Integral,pi,pprint"
   ]
  },
  {
   "cell_type": "code",
   "execution_count": 3,
   "metadata": {},
   "outputs": [
    {
     "name": "stdout",
     "output_type": "stream",
     "text": [
      "             2 \n",
      "    -(x - 10)  \n",
      "    ───────────\n",
      "         2     \n",
      "√2⋅ℯ           \n",
      "───────────────\n",
      "      2⋅√π     \n"
     ]
    }
   ],
   "source": [
    "x=Symbol('x')\n",
    "p=exp(-(x-10)**2/2)/sqrt(2*pi)\n",
    "pprint(p)"
   ]
  },
  {
   "cell_type": "code",
   "execution_count": 4,
   "metadata": {},
   "outputs": [
    {
     "name": "stdout",
     "output_type": "stream",
     "text": [
      "     ⎛√2⎞          \n",
      "  erf⎜──⎟          \n",
      "     ⎝2 ⎠   erf(√2)\n",
      "- ─────── + ───────\n",
      "     2         2   \n"
     ]
    }
   ],
   "source": [
    "pprint(Integral(p,(x,11,12)).doit())"
   ]
  },
  {
   "cell_type": "code",
   "execution_count": 5,
   "metadata": {},
   "outputs": [
    {
     "data": {
      "text/plain": [
       "0.135905121983278"
      ]
     },
     "execution_count": 5,
     "metadata": {},
     "output_type": "execute_result"
    }
   ],
   "source": [
    "Integral(p,(x,11,12)).doit().evalf()"
   ]
  }
 ],
 "metadata": {
  "kernelspec": {
   "display_name": "Python 3",
   "language": "python",
   "name": "python3"
  },
  "language_info": {
   "codemirror_mode": {
    "name": "ipython",
    "version": 3
   },
   "file_extension": ".py",
   "mimetype": "text/x-python",
   "name": "python",
   "nbconvert_exporter": "python",
   "pygments_lexer": "ipython3",
   "version": "3.7.3"
  }
 },
 "nbformat": 4,
 "nbformat_minor": 2
}
