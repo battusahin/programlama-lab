{
 "cells": [
  {
   "cell_type": "markdown",
   "metadata": {},
   "source": [
    "# Uniform Distribution(Tekdüze dağılım)"
   ]
  },
  {
   "cell_type": "markdown",
   "metadata": {},
   "source": [
    "Sürekli tekdüze dağılım (İngilizce: continuous uniform distribution) olasılık kuramı ve istatistik bilim dallarında, her elemanı, olasılığın desteklendiği aynı büyüklükteki aralık içinde bulunabilir, her sürekli değer için aynı sabit olasılık gösteren bir olasılık dağılımları ailesidir. Desteklenen aralık iki parametre ile, yani minimum değer a ve maksimum değer b ile, tanımlanmaktadır. Bu dağılım kısa olarak U(a,b) olarak anılır."
   ]
  },
  {
   "cell_type": "code",
   "execution_count": 130,
   "metadata": {},
   "outputs": [],
   "source": [
    "import sympy as sym\n",
    "from sympy import Symbol\n",
    "from sympy import Piecewise \n",
    "import sympy.plotting as syp\n",
    "import numpy as np\n",
    "import matplotlib.pyplot as plt\n",
    "from sympy import pprint\n",
    "%matplotlib inline\n",
    "\n",
    "# Parçalı fonksiyonu kullanabilmek için 'from sympy import Piecewise' kullandık ..."
   ]
  },
  {
   "cell_type": "code",
   "execution_count": 131,
   "metadata": {},
   "outputs": [],
   "source": [
    "a=Symbol('a')\n",
    "x = Symbol('x')\n",
    "b=Symbol('b')\n",
    "\n",
    "f=1/(b-a)"
   ]
  },
  {
   "cell_type": "code",
   "execution_count": 132,
   "metadata": {},
   "outputs": [],
   "source": [
    "def fonk_SYP(min , max):\n",
    "    if(max < min):\n",
    "        min , max = max, min\n",
    "    syp.plot(Piecewise((0,(x<min) | (x>max)),(f.subs({a:min,b:max}),(x>=min) & (x<=max))),(x,-20,20),title=\"SYP Grafiği\") \n",
    "###  Piecewise==parçalı fonksiyon olarak geçer ###    "
   ]
  },
  {
   "cell_type": "code",
   "execution_count": 135,
   "metadata": {},
   "outputs": [],
   "source": [
    "def fonk_PLT(min, max):\n",
    "    if (min > max):\n",
    "        min, max = max, min\n",
    "    x_value=[]\n",
    "    y_value=[]\n",
    "    function = Piecewise((0, (x < min) | (x > max)), (f.subs({a:min, b:max}), (x >= min) & (x <= max)))\n",
    "    value = float(0)\n",
    "    while value < 20.0:\n",
    "        y=function.subs({x:value}).evalf()\n",
    "        y_value.append(y)\n",
    "        x_value.append(value)\n",
    "        plt.title('PLT Grafiği')\n",
    "        plt.xlabel('x')\n",
    "        plt.ylabel('f(x)')\n",
    "        plt.plot(x_value,y_value)\n",
    "        value += 0.25"
   ]
  },
  {
   "cell_type": "code",
   "execution_count": 128,
   "metadata": {},
   "outputs": [
    {
     "data": {
      "image/png": "[encoded data removed]",
      "text/plain": [
       "<Figure size 432x288 with 1 Axes>"
      ]
     },
     "metadata": {
      "needs_background": "light"
     },
     "output_type": "display_data"
    }
   ],
   "source": [
    "fonk_SYP(5,16)"
   ]
  },
  {
   "cell_type": "code",
   "execution_count": 136,
   "metadata": {},
   "outputs": [
    {
     "data": {
      "image/png": "[encoded data removed]",
      "text/plain": [
       "<Figure size 432x288 with 1 Axes>"
      ]
     },
     "metadata": {
      "needs_background": "light"
     },
     "output_type": "display_data"
    }
   ],
   "source": [
    "fonk_PLT(5,16)"
   ]
  },
  {
   "cell_type": "markdown",
   "metadata": {},
   "source": [
    "Olasılık yoğunluk fonksiyonu\n",
    "Sürekli tekdüze dağılım için olasılık yoğunluk fonksiyonu şöyle ifade edilir:\n",
    "\n",
    "Sınırda olan değerler, a ve b genellikle teorik bakımdan önemli değildirler; çünkü herhangi bir aralıkta f(x) dx integral değerine ve x f(x) dx değerine ve benzer değerlerine bu sınır değerler hiçbir teorik etkide bulunmazlar. Bazen bu değerler 0 veya 1/(b - a) olarak seçilirler. İkinci alternatif maksimum olabilirlilik yöntemi ile tahmin yapılmak gerektiği zaman pratikte kullanılır. Fourier analiz uygulamak gerektiği zaman f(a) veya f(b) değeri 1/(2(b - a)) olarak seçilir. Böylece bu sürekli tekdüze fonksiyonun birçok integral dönüşümlerinin ters dönüşümü sonucunda (sıfır ölçümü hariç noktaların dışında nerede ise her tarafta birbirine eşit bir fonksiyon yerine) biraz fikir karışıklığına neden olup, özel olarak seçilen tekdüze fonksiyon tekrar elde edilir. Bu çeşit tekdüze fonksiyon, daha önceki haldeki gibi anlam belirsizliği yaratmadan, işaret fonksiyonu ile de uyuşma gösterir."
   ]
  },
  {
   "cell_type": "raw",
   "metadata": {},
   "source": [
    "\"\"\"\n",
    " BATUHAN ŞAHİN \n",
    " \n",
    " 160401056\n",
    " \n",
    " https://github.com/battusahin/PROGRAMLAMA-LAB\n",
    "\n",
    "\"\"\" "
   ]
  }
 ],
 "metadata": {
  "kernelspec": {
   "display_name": "Python 3",
   "language": "python",
   "name": "python3"
  },
  "language_info": {
   "codemirror_mode": {
    "name": "ipython",
    "version": 3
   },
   "file_extension": ".py",
   "mimetype": "text/x-python",
   "name": "python",
   "nbconvert_exporter": "python",
   "pygments_lexer": "ipython3",
   "version": "3.7.3"
  }
 },
 "nbformat": 4,
 "nbformat_minor": 2
}
