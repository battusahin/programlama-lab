{
 "cells": [
  {
   "cell_type": "code",
   "execution_count": 1,
   "metadata": {},
   "outputs": [],
   "source": [
    "import sympy as sym"
   ]
  },
  {
   "cell_type": "code",
   "execution_count": 2,
   "metadata": {},
   "outputs": [],
   "source": [
    "from sympy import Symbol\n",
    "from sympy import pprint\n",
    "from sympy import Symbol"
   ]
  },
  {
   "cell_type": "code",
   "execution_count": 3,
   "metadata": {},
   "outputs": [
    {
     "name": "stdout",
     "output_type": "stream",
     "text": [
      "             2 \n",
      "    -(-μ + x)  \n",
      "    ───────────\n",
      "           2   \n",
      "        2⋅σ    \n",
      "√2⋅ℯ           \n",
      "───────────────\n",
      "          ____ \n",
      "         ╱  2  \n",
      "  2⋅√π⋅╲╱  σ   \n"
     ]
    },
    {
     "data": {
      "text/plain": [
       "<Figure size 640x480 with 1 Axes>"
      ]
     },
     "metadata": {},
     "output_type": "display_data"
    },
    {
     "data": {
      "text/plain": [
       "<sympy.plotting.plot.Plot at 0x23fe03fe710>"
      ]
     },
     "execution_count": 3,
     "metadata": {},
     "output_type": "execute_result"
    }
   ],
   "source": [
    "sigma=Symbol('sigma')\n",
    "x=Symbol('x')\n",
    "mu=Symbol('mu')\n",
    "part1= 1/(sym.sqrt(2*sym.pi*sigma*sigma))\n",
    "part2=sym.exp(-1*((x-mu)**2)/(2*sigma**2))\n",
    "my_gauss_function=part1*part2\n",
    "pprint(my_gauss_function)\n",
    "sym.plot(my_gauss_function.subs({mu:10,sigma:30}),(x,-100,100),tittle='gauss distirubiton')"
   ]
  },
  {
   "cell_type": "code",
   "execution_count": 4,
   "metadata": {},
   "outputs": [
    {
     "name": "stdout",
     "output_type": "stream",
     "text": [
      "-50 0.00331590462642496\n",
      "-49 0.00350338791220834\n",
      "-48 0.00369736115598185\n",
      "-47 0.00389774095067668\n",
      "-46 0.00410441740086165\n",
      "-45 0.00431725318886306\n",
      "-44 0.00453608274707594\n",
      "-43 0.00476071154775034\n",
      "-42 0.00499091552119149\n",
      "-41 0.00522644061285029\n",
      "-40 0.00546700248919979\n",
      "-39 0.00571228640159358\n",
      "-38 0.00596194721648468\n",
      "-37 0.00621560961945219\n",
      "-36 0.00647286849944043\n",
      "-35 0.00673328951846863\n",
      "-34 0.00699640987082414\n",
      "-33 0.00726173923441835\n",
      "-32 0.00752876091557082\n",
      "-31 0.00779693318700543\n",
      "-30 0.00806569081730478\n",
      "-29 0.00833444678848862\n",
      "-28 0.00860259419677459\n",
      "-27 0.00886950832995849\n",
      "-26 0.00913454891323428\n",
      "-25 0.00939706251367675\n",
      "-24 0.00965638509204943\n",
      "-23 0.00991184468909342\n",
      "-22 0.0101627642320172\n",
      "-21 0.0104084644455587\n",
      "-20 0.0106482668507451\n",
      "-19 0.0108814968333509\n",
      "-18 0.0111074867630600\n",
      "-17 0.0113255791434919\n",
      "-16 0.0115351297725641\n",
      "-15 0.0117355108921433\n",
      "-14 0.0119261143055990\n",
      "-13 0.0121063544417139\n",
      "-12 0.0122756713434441\n",
      "-11 0.0124335335602443\n",
      "-10 0.0125794409230998\n",
      "-9 0.0127129271820175\n",
      "-8 0.0128335624865338\n",
      "-7 0.0129409556907849\n",
      "-6 0.0130347564658485\n",
      "-5 0.0131146572033980\n",
      "-4 0.0131803946961939\n",
      "-3 0.0132317515825671\n",
      "-2 0.0132685575437984\n",
      "-1 0.0132906902451659\n",
      "0 0.0132980760133811\n",
      "1 0.0132906902451659\n",
      "2 0.0132685575437984\n",
      "3 0.0132317515825671\n",
      "4 0.0131803946961939\n",
      "5 0.0131146572033980\n",
      "6 0.0130347564658485\n",
      "7 0.0129409556907849\n",
      "8 0.0128335624865338\n",
      "9 0.0127129271820175\n",
      "10 0.0125794409230998\n",
      "11 0.0124335335602443\n",
      "12 0.0122756713434441\n",
      "13 0.0121063544417139\n",
      "14 0.0119261143055990\n",
      "15 0.0117355108921433\n",
      "16 0.0115351297725641\n",
      "17 0.0113255791434919\n",
      "18 0.0111074867630600\n",
      "19 0.0108814968333509\n",
      "20 0.0106482668507451\n",
      "21 0.0104084644455587\n",
      "22 0.0101627642320172\n",
      "23 0.00991184468909342\n",
      "24 0.00965638509204943\n",
      "25 0.00939706251367675\n",
      "26 0.00913454891323428\n",
      "27 0.00886950832995849\n",
      "28 0.00860259419677459\n",
      "29 0.00833444678848862\n",
      "30 0.00806569081730478\n",
      "31 0.00779693318700543\n",
      "32 0.00752876091557082\n",
      "33 0.00726173923441835\n",
      "34 0.00699640987082414\n",
      "35 0.00673328951846863\n",
      "36 0.00647286849944043\n",
      "37 0.00621560961945219\n",
      "38 0.00596194721648468\n",
      "39 0.00571228640159358\n",
      "40 0.00546700248919979\n",
      "41 0.00522644061285029\n",
      "42 0.00499091552119149\n",
      "43 0.00476071154775034\n",
      "44 0.00453608274707594\n",
      "45 0.00431725318886306\n",
      "46 0.00410441740086165\n",
      "47 0.00389774095067668\n",
      "48 0.00369736115598185\n",
      "49 0.00350338791220834\n"
     ]
    },
    {
     "data": {
      "image/png": "[encoded data removed]",
      "text/plain": [
       "<Figure size 432x288 with 1 Axes>"
      ]
     },
     "metadata": {
      "needs_background": "light"
     },
     "output_type": "display_data"
    }
   ],
   "source": [
    "x_values=[]\n",
    "y_values=[]\n",
    "for value in range(-50,50):\n",
    "    y=my_gauss_function.subs({mu:0,sigma:30,x:value}).evalf()\n",
    "    y_values.append(y)\n",
    "    x_values.append(value)\n",
    "    print(value,y)\n",
    "%matplotlib inline\n",
    "import matplotlib.pyplot as plt\n",
    "plt.plot(x_values,y_values)\n",
    "plt.show()"
   ]
  },
  {
   "cell_type": "code",
   "execution_count": null,
   "metadata": {},
   "outputs": [],
   "source": []
  }
 ],
 "metadata": {
  "kernelspec": {
   "display_name": "Python 3",
   "language": "python",
   "name": "python3"
  },
  "language_info": {
   "codemirror_mode": {
    "name": "ipython",
    "version": 3
   },
   "file_extension": ".py",
   "mimetype": "text/x-python",
   "name": "python",
   "nbconvert_exporter": "python",
   "pygments_lexer": "ipython3",
   "version": "3.7.3"
  }
 },
 "nbformat": 4,
 "nbformat_minor": 2
}
